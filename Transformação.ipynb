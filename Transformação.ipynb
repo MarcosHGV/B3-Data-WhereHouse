{
 "cells": [
  {
   "cell_type": "code",
   "id": "initial_id",
   "metadata": {
    "collapsed": true,
    "ExecuteTime": {
     "end_time": "2024-07-28T05:42:56.295545Z",
     "start_time": "2024-07-28T05:42:55.083228Z"
    }
   },
   "source": [
    "#Importando biblioteca\n",
    "import pandas as pd\n",
    "from tabulate import tabulate"
   ],
   "outputs": [],
   "execution_count": 1
  },
  {
   "metadata": {
    "ExecuteTime": {
     "end_time": "2024-07-28T05:46:50.942480Z",
     "start_time": "2024-07-28T05:46:50.938156Z"
    }
   },
   "cell_type": "code",
   "source": "dados = 'dados_concatenados.csv'",
   "id": "352e3181f88cb501",
   "outputs": [],
   "execution_count": 2
  },
  {
   "metadata": {
    "ExecuteTime": {
     "end_time": "2024-07-28T05:48:31.832242Z",
     "start_time": "2024-07-28T05:48:31.825104Z"
    }
   },
   "cell_type": "code",
   "source": [
    "# Selecionar as colunas específicas\n",
    "colunas_selecionadas = [\n",
    "    'Data do Pregão',\n",
    "    'Código de Negociação',\n",
    "    'Nome da Empresa',\n",
    "    'Moeda de Referência',\n",
    "    'Preço de Abertura',\n",
    "    'Preço Máximo',\n",
    "    'Preço Mínimo',\n",
    "    'Preço Médio',\n",
    "    'Preço de Fechamento',\n",
    "    'Preço de Fechamento Anterior',\n",
    "    'Quantidade de Negócios',\n",
    "    'Volume Total dos Negócios'\n",
    "]"
   ],
   "id": "2c50c68ad388bac7",
   "outputs": [],
   "execution_count": 6
  },
  {
   "metadata": {
    "ExecuteTime": {
     "end_time": "2024-07-28T05:57:17.380286Z",
     "start_time": "2024-07-28T05:57:00.104368Z"
    }
   },
   "cell_type": "code",
   "source": [
    "# Carregar o CSV pulando a primeira linha\n",
    "df = pd.read_csv(dados, low_memory=False)"
   ],
   "id": "fc8d33b4d9f3dcd",
   "outputs": [],
   "execution_count": 16
  },
  {
   "metadata": {
    "ExecuteTime": {
     "end_time": "2024-07-28T05:57:48.861748Z",
     "start_time": "2024-07-28T05:57:48.812134Z"
    }
   },
   "cell_type": "code",
   "source": [
    "# Exibir as primeiras linhas do DataFrame carregado\n",
    "print(tabulate(df.head(), headers='keys', tablefmt='pretty'))"
   ],
   "id": "7d4a7bba2f541042",
   "outputs": [
    {
     "name": "stdout",
     "output_type": "stream",
     "text": [
      "+---+----------------+----------------------+-----------------+---------------------+-------------------+--------------+--------------+-------------+---------------------+------------------------------+------------------------+---------------------------+\n",
      "|   | Data do Pregão | Código de Negociação | Nome da Empresa | Moeda de Referência | Preço de Abertura | Preço Máximo | Preço Mínimo | Preço Médio | Preço de Fechamento | Preço de Fechamento Anterior | Quantidade de Negócios | Volume Total dos Negócios |\n",
      "+---+----------------+----------------------+-----------------+---------------------+-------------------+--------------+--------------+-------------+---------------------+------------------------------+------------------------+---------------------------+\n",
      "| 0 |    20210104    |        A1AP34        |  ADVANCE AUTO   |         R$          |      5110.0       |    5203.0    |    5062.0    |   5191.0    |       5190.0        |            6132.0            |         6420.0         |        33355870.0         |\n",
      "| 1 |    20210104    |        A1BB34        |     ABB LTD     |         R$          |      3680.0       |    3732.0    |    3674.0    |   3701.0    |       3718.0        |             0.0              |          50.0          |         214670.0          |\n",
      "| 2 |    20210104    |        A1BM34        |   ABIOMED INC   |         R$          |      40942.0      |   41660.0    |   40942.0    |   41527.0   |       41530.0       |             0.0              |         320.0          |        13537960.0         |\n",
      "| 3 |    20210104    |        A1CR34        |    AMCOR PLC    |         R$          |      5850.0       |    6010.0    |    5850.0    |   5976.0    |       5977.0        |             0.0              |         1100.0         |         6592550.0         |\n",
      "| 4 |    20210104    |        A1EE34        |   AMEREN CORP   |         R$          |      19960.0      |   19960.0    |   19960.0    |   19960.0   |       19960.0       |           21250.0            |         400.0          |         7984000.0         |\n",
      "+---+----------------+----------------------+-----------------+---------------------+-------------------+--------------+--------------+-------------+---------------------+------------------------------+------------------------+---------------------------+\n"
     ]
    }
   ],
   "execution_count": 18
  },
  {
   "metadata": {
    "ExecuteTime": {
     "end_time": "2024-07-28T06:00:16.980690Z",
     "start_time": "2024-07-28T06:00:15.741153Z"
    }
   },
   "cell_type": "code",
   "source": [
    "# Verificar se há valores vazios nas linhas\n",
    "linhas_vazias = df.isna().any(axis=1)"
   ],
   "id": "16b9e3afafc80e9f",
   "outputs": [],
   "execution_count": 22
  },
  {
   "metadata": {
    "ExecuteTime": {
     "end_time": "2024-07-28T06:00:30.423801Z",
     "start_time": "2024-07-28T06:00:30.407213Z"
    }
   },
   "cell_type": "code",
   "source": [
    "# Exibir as linhas com valores vazios\n",
    "print(\"Linhas com valores vazios:\")\n",
    "print(df[linhas_vazias])"
   ],
   "id": "d87fa0a80abfcbc0",
   "outputs": [
    {
     "name": "stdout",
     "output_type": "stream",
     "text": [
      "Linhas com valores vazios:\n",
      "        Data do Pregão Código de Negociação Nome da Empresa  \\\n",
      "1831862       COTAHIST         021BOVESPA 2    123000001831   \n",
      "3949303       COTAHIST         022BOVESPA 2    122900002117   \n",
      "6206728       COTAHIST         023BOVESPA 2    122800002257   \n",
      "\n",
      "        Moeda de Referência  Preço de Abertura  Preço Máximo  Preço Mínimo  \\\n",
      "1831862                 NaN                NaN           NaN           NaN   \n",
      "3949303                 NaN                NaN           NaN           NaN   \n",
      "6206728                 NaN                NaN           NaN           NaN   \n",
      "\n",
      "         Preço Médio  Preço de Fechamento  Preço de Fechamento Anterior  \\\n",
      "1831862          NaN                  NaN                           NaN   \n",
      "3949303          NaN                  NaN                           NaN   \n",
      "6206728          NaN                  NaN                           NaN   \n",
      "\n",
      "         Quantidade de Negócios  Volume Total dos Negócios  \n",
      "1831862                     NaN                        NaN  \n",
      "3949303                     NaN                        NaN  \n",
      "6206728                     NaN                        NaN  \n"
     ]
    }
   ],
   "execution_count": 23
  },
  {
   "metadata": {
    "ExecuteTime": {
     "end_time": "2024-07-28T06:03:17.477600Z",
     "start_time": "2024-07-28T06:03:14.417501Z"
    }
   },
   "cell_type": "code",
   "source": [
    "# Remover linhas com valores vazios\n",
    "df = df.dropna()"
   ],
   "id": "9cd6b69b71fae62a",
   "outputs": [],
   "execution_count": 25
  },
  {
   "metadata": {
    "ExecuteTime": {
     "end_time": "2024-07-28T06:03:35.948648Z",
     "start_time": "2024-07-28T06:03:35.938966Z"
    }
   },
   "cell_type": "code",
   "source": [
    "# Exibir as primeiras linhas do DataFrame após remover linhas vazias\n",
    "print(tabulate(df.head(), headers='keys', tablefmt='pretty'))"
   ],
   "id": "95fae75c6c568ecc",
   "outputs": [
    {
     "name": "stdout",
     "output_type": "stream",
     "text": [
      "+---+----------------+----------------------+-----------------+---------------------+-------------------+--------------+--------------+-------------+---------------------+------------------------------+------------------------+---------------------------+\n",
      "|   | Data do Pregão | Código de Negociação | Nome da Empresa | Moeda de Referência | Preço de Abertura | Preço Máximo | Preço Mínimo | Preço Médio | Preço de Fechamento | Preço de Fechamento Anterior | Quantidade de Negócios | Volume Total dos Negócios |\n",
      "+---+----------------+----------------------+-----------------+---------------------+-------------------+--------------+--------------+-------------+---------------------+------------------------------+------------------------+---------------------------+\n",
      "| 0 |    20210104    |        A1AP34        |  ADVANCE AUTO   |         R$          |      5110.0       |    5203.0    |    5062.0    |   5191.0    |       5190.0        |            6132.0            |         6420.0         |        33355870.0         |\n",
      "| 1 |    20210104    |        A1BB34        |     ABB LTD     |         R$          |      3680.0       |    3732.0    |    3674.0    |   3701.0    |       3718.0        |             0.0              |          50.0          |         214670.0          |\n",
      "| 2 |    20210104    |        A1BM34        |   ABIOMED INC   |         R$          |      40942.0      |   41660.0    |   40942.0    |   41527.0   |       41530.0       |             0.0              |         320.0          |        13537960.0         |\n",
      "| 3 |    20210104    |        A1CR34        |    AMCOR PLC    |         R$          |      5850.0       |    6010.0    |    5850.0    |   5976.0    |       5977.0        |             0.0              |         1100.0         |         6592550.0         |\n",
      "| 4 |    20210104    |        A1EE34        |   AMEREN CORP   |         R$          |      19960.0      |   19960.0    |   19960.0    |   19960.0   |       19960.0       |           21250.0            |         400.0          |         7984000.0         |\n",
      "+---+----------------+----------------------+-----------------+---------------------+-------------------+--------------+--------------+-------------+---------------------+------------------------------+------------------------+---------------------------+\n"
     ]
    }
   ],
   "execution_count": 27
  },
  {
   "metadata": {
    "ExecuteTime": {
     "end_time": "2024-07-28T06:08:03.677867Z",
     "start_time": "2024-07-28T06:07:13.020113Z"
    }
   },
   "cell_type": "code",
   "source": [
    "# Salvar o DataFrame concatenado em um arquivo CSV\n",
    "df.to_csv('dados_limpos.csv', index=False)"
   ],
   "id": "919765b15f38cc7",
   "outputs": [],
   "execution_count": 28
  }
 ],
 "metadata": {
  "kernelspec": {
   "display_name": "Python 3",
   "language": "python",
   "name": "python3"
  },
  "language_info": {
   "codemirror_mode": {
    "name": "ipython",
    "version": 2
   },
   "file_extension": ".py",
   "mimetype": "text/x-python",
   "name": "python",
   "nbconvert_exporter": "python",
   "pygments_lexer": "ipython2",
   "version": "2.7.6"
  }
 },
 "nbformat": 4,
 "nbformat_minor": 5
}
