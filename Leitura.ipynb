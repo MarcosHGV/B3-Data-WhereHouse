{
 "cells": [
  {
   "cell_type": "code",
   "id": "initial_id",
   "metadata": {
    "collapsed": true,
    "ExecuteTime": {
     "end_time": "2024-07-23T18:48:39.340497Z",
     "start_time": "2024-07-23T18:48:38.235055Z"
    }
   },
   "source": [
    "import pandas as pd\n",
    "from tabulate import tabulate"
   ],
   "outputs": [],
   "execution_count": 4
  },
  {
   "metadata": {
    "ExecuteTime": {
     "end_time": "2024-07-23T18:48:40.447723Z",
     "start_time": "2024-07-23T18:48:40.441893Z"
    }
   },
   "cell_type": "code",
   "source": [
    "ano1 = 'COTAHIST_A2021.TXT'\n",
    "ano2 = 'COTAHIST_A2022.TXT'\n",
    "ano3 = 'COTAHIST_A2023.TXT'"
   ],
   "id": "706aaf2b280ee9ff",
   "outputs": [],
   "execution_count": 5
  },
  {
   "metadata": {
    "ExecuteTime": {
     "end_time": "2024-07-23T18:48:42.418581Z",
     "start_time": "2024-07-23T18:48:42.405267Z"
    }
   },
   "cell_type": "code",
   "source": [
    "# Especificar as larguras das colunas\n",
    "colspecs = [\n",
    "    (0, 2),      # Tipo de registro\n",
    "    (2, 10),     # Data do pregão\n",
    "    (10, 12),    # Código BDI\n",
    "    (12, 24),    # Código de negociação do papel\n",
    "    (24, 27),    # Tipo de mercado\n",
    "    (27, 39),    # Nome da empresa\n",
    "    (39, 49),    # Especificação do papel (ON/PN)\n",
    "    (49, 52),    # Prazo em dias do mercado a termo\n",
    "    (52, 56),    # Moeda de referência\n",
    "    (56, 69),    # Preço de abertura\n",
    "    (69, 82),    # Preço máximo\n",
    "    (82, 95),    # Preço mínimo\n",
    "    (95, 108),   # Preço médio\n",
    "    (108, 121),  # Preço de fechamento\n",
    "    (121, 134),  # Preço do melhor negócio do dia\n",
    "    (134, 147),  # Preço de fechamento anterior\n",
    "    (147, 152),  # Preço de abertura de exercício de opções de compra\n",
    "    (152, 170),  # Quantidade de negócios\n",
    "    (170, 188),  # Volume total dos negócios\n",
    "    (188, 200),  # ISIN do ativo\n",
    "]\n",
    "\n",
    "# Nomes das colunas correspondentes\n",
    "colnames = [\n",
    "    'Tipo de Registro',\n",
    "    'Data do Pregão',\n",
    "    'Código BDI',\n",
    "    'Código de Negociação',\n",
    "    'Tipo de Mercado',\n",
    "    'Nome da Empresa',\n",
    "    'Especificação do Papel',\n",
    "    'Prazo em Dias do Mercado a Termo',\n",
    "    'Moeda de Referência',\n",
    "    'Preço de Abertura',\n",
    "    'Preço Máximo',\n",
    "    'Preço Mínimo',\n",
    "    'Preço Médio',\n",
    "    'Preço de Fechamento',\n",
    "    'Preço do Melhor Negócio do Dia',\n",
    "    'Preço de Fechamento Anterior',\n",
    "    'Preço de Abertura de Exercício de Opções de Compra',\n",
    "    'Quantidade de Negócios',\n",
    "    'Volume Total dos Negócios',\n",
    "    'ISIN do Ativo'\n",
    "]\n"
   ],
   "id": "bb6a0712b2f4186c",
   "outputs": [],
   "execution_count": 6
  },
  {
   "metadata": {
    "ExecuteTime": {
     "end_time": "2024-07-23T18:52:13.741883Z",
     "start_time": "2024-07-23T18:48:48.739332Z"
    }
   },
   "cell_type": "code",
   "source": [
    "# Ler o arquivo .txt com larguras fixas\n",
    "df_1 = pd.read_fwf(ano1, colspecs=colspecs, names=colnames)\n",
    "df_2 = pd.read_fwf(ano2, colspecs=colspecs, names=colnames)\n",
    "df_3 = pd.read_fwf(ano3, colspecs=colspecs, names=colnames)"
   ],
   "id": "fed6d912b7cf428d",
   "outputs": [],
   "execution_count": 7
  },
  {
   "metadata": {
    "ExecuteTime": {
     "end_time": "2024-07-23T18:54:41.755901Z",
     "start_time": "2024-07-23T18:54:41.733315Z"
    }
   },
   "cell_type": "code",
   "source": [
    "#Obtendo os cabeçalho antes da exclusão\n",
    "Hist2021 = 'Histórico BOVESPA 2021/12/30'\n",
    "Hist2022 = 'Histórico BOVESPA 2022/12/29'\n",
    "Hist2023 = 'Histórico BOVESPA 2023/12/28'\n"
   ],
   "id": "8727faa85c64edb2",
   "outputs": [],
   "execution_count": 8
  },
  {
   "metadata": {},
   "cell_type": "code",
   "source": [
    "# Remover a primeira linha\n",
    "df_1 = df_1.drop(index=0)\n",
    "df_2 = df_2.drop(index=0)   \n",
    "df_3 = df_3.drop(index=0)\n",
    "\n",
    "# Resetar os índices após a remoção\n",
    "df_1 = df_1.reset_index(drop=True)\n",
    "df_2 = df_2.reset_index(drop=True)\n",
    "df_3 = df_3.reset_index(drop=True)"
   ],
   "id": "e89bdbcf842f251b",
   "outputs": [],
   "execution_count": null
  },
  {
   "metadata": {
    "ExecuteTime": {
     "end_time": "2024-07-23T18:54:46.485106Z",
     "start_time": "2024-07-23T18:54:46.452021Z"
    }
   },
   "cell_type": "code",
   "source": [
    "# Obter o número de linhas e colunas\n",
    "num_linhas = []\n",
    "num_colunas = []\n",
    "\n",
    "num_linhas.append(df_1.shape[0])\n",
    "num_colunas.append(df_1.shape[1])\n",
    "\n",
    "num_linhas.append(df_2.shape[0])\n",
    "num_colunas.append(df_2.shape[1])\n",
    "\n",
    "num_linhas.append(df_3.shape[0])\n",
    "num_colunas.append(df_3.shape[1])\n",
    "\n",
    "# Exibir o número de linhas e colunas\n",
    "print(f\"Quantidade de linhas 2021: {num_linhas[0]}\\n\"\n",
    "      f\"Quantidade de linhas 2022: {num_linhas[1]}\\n\"\n",
    "      f\"Quantidade de linhas 2023: {num_linhas[1]}\\n\")\n",
    "\n",
    "print(f\"Quantidade de colunas 2021: {num_colunas[0]}\\n\"\n",
    "      f\"Quantidade de colunas 2022: {num_colunas[1]}\\n\"\n",
    "      f\"Quantidade de colunas 2023: {num_colunas[2]}\")"
   ],
   "id": "d98458cec08140a9",
   "outputs": [
    {
     "name": "stdout",
     "output_type": "stream",
     "text": [
      "Quantidade de linhas 2021: 1831864\n",
      "Quantidade de linhas 2022: 2117442\n",
      "Quantidade de linhas 2023: 2117442\n",
      "\n",
      "Quantidade de colunas 2021: 20\n",
      "Quantidade de colunas 2022: 20\n",
      "Quantidade de colunas 2023: 20\n"
     ]
    }
   ],
   "execution_count": 9
  },
  {
   "metadata": {
    "ExecuteTime": {
     "end_time": "2024-07-23T18:55:55.848361Z",
     "start_time": "2024-07-23T18:55:55.829551Z"
    }
   },
   "cell_type": "code",
   "source": [
    "# Exibir apenas a primeira linha do DataFrame de forma formatada\n",
    "print(tabulate(df_1.head(), headers='keys', tablefmt='pretty'))\n",
    "print(tabulate(df_2.head(), headers='keys', tablefmt='pretty'))\n",
    "print(tabulate(df_3.head(), headers='keys', tablefmt='pretty'))"
   ],
   "id": "1c29b80c1d339865",
   "outputs": [
    {
     "name": "stdout",
     "output_type": "stream",
     "text": [
      "+---+------------------+----------------+------------+----------------------+-----------------+-----------------+------------------------+----------------------------------+---------------------+-------------------+--------------+--------------+-------------+---------------------+--------------------------------+------------------------------+----------------------------------------------------+------------------------+---------------------------+---------------+\n",
      "|   | Tipo de Registro | Data do Pregão | Código BDI | Código de Negociação | Tipo de Mercado | Nome da Empresa | Especificação do Papel | Prazo em Dias do Mercado a Termo | Moeda de Referência | Preço de Abertura | Preço Máximo | Preço Mínimo | Preço Médio | Preço de Fechamento | Preço do Melhor Negócio do Dia | Preço de Fechamento Anterior | Preço de Abertura de Exercício de Opções de Compra | Quantidade de Negócios | Volume Total dos Negócios | ISIN do Ativo |\n",
      "+---+------------------+----------------+------------+----------------------+-----------------+-----------------+------------------------+----------------------------------+---------------------+-------------------+--------------+--------------+-------------+---------------------+--------------------------------+------------------------------+----------------------------------------------------+------------------------+---------------------------+---------------+\n",
      "| 0 |        0         |    COTAHIST    |    0.2     |     021BOVESPA 2     |       21        |      1230       |          nan           |               nan                |         nan         |        nan        |     nan      |     nan      |     nan     |         nan         |              nan               |             nan              |                        nan                         |          nan           |            nan            |      nan      |\n",
      "| 1 |        1         |    20210104    |    2.0     |        A1AP34        |       10        |  ADVANCE AUTO   |          DRN           |               nan                |         R$          |      5110.0       |    5203.0    |    5062.0    |   5191.0    |       5190.0        |             5180.0             |            6132.0            |                        22.0                        |         6420.0         |        33355870.0         |      0.0      |\n",
      "| 2 |        1         |    20210104    |    2.0     |        A1BB34        |       10        |     ABB LTD     |          DRN           |               nan                |         R$          |      3680.0       |    3732.0    |    3674.0    |   3701.0    |       3718.0        |             3729.0             |             0.0              |                        22.0                        |          50.0          |         214670.0          |      0.0      |\n",
      "| 3 |        1         |    20210104    |    2.0     |        A1BM34        |       10        |   ABIOMED INC   |          DRN           |               nan                |         R$          |      40942.0      |   41660.0    |   40942.0    |   41527.0   |       41530.0       |              0.0               |             0.0              |                        19.0                        |         320.0          |        13537960.0         |      0.0      |\n",
      "| 4 |        1         |    20210104    |    2.0     |        A1CR34        |       10        |    AMCOR PLC    |          DRN           |               nan                |         R$          |      5850.0       |    6010.0    |    5850.0    |   5976.0    |       5977.0        |             5851.0             |             0.0              |                        4.0                         |         1100.0         |         6592550.0         |      0.0      |\n",
      "+---+------------------+----------------+------------+----------------------+-----------------+-----------------+------------------------+----------------------------------+---------------------+-------------------+--------------+--------------+-------------+---------------------+--------------------------------+------------------------------+----------------------------------------------------+------------------------+---------------------------+---------------+\n",
      "+---+------------------+----------------+------------+----------------------+-----------------+-----------------+------------------------+----------------------------------+---------------------+-------------------+--------------+--------------+-------------+---------------------+--------------------------------+------------------------------+----------------------------------------------------+------------------------+---------------------------+---------------+\n",
      "|   | Tipo de Registro | Data do Pregão | Código BDI | Código de Negociação | Tipo de Mercado | Nome da Empresa | Especificação do Papel | Prazo em Dias do Mercado a Termo | Moeda de Referência | Preço de Abertura | Preço Máximo | Preço Mínimo | Preço Médio | Preço de Fechamento | Preço do Melhor Negócio do Dia | Preço de Fechamento Anterior | Preço de Abertura de Exercício de Opções de Compra | Quantidade de Negócios | Volume Total dos Negócios | ISIN do Ativo |\n",
      "+---+------------------+----------------+------------+----------------------+-----------------+-----------------+------------------------+----------------------------------+---------------------+-------------------+--------------+--------------+-------------+---------------------+--------------------------------+------------------------------+----------------------------------------------------+------------------------+---------------------------+---------------+\n",
      "| 0 |        0         |    COTAHIST    |    0.2     |     022BOVESPA 2     |       22        |      1229       |          nan           |               nan                |         nan         |        nan        |     nan      |     nan      |     nan     |         nan         |              nan               |             nan              |                        nan                         |          nan           |            nan            |      nan      |\n",
      "| 1 |        1         |    20220103    |    2.0     |        GNDI3         |       10        |   INTERMEDICA   |       ON      NM       |               nan                |         R$          |      5970.0       |    6088.0    |    5727.0    |   5896.0    |       5875.0        |             5873.0             |            5875.0            |                      20535.0                       |       3960200.0        |       23351263100.0       |      0.0      |\n",
      "| 2 |        1         |    20220103    |    2.0     |        ABEV3         |       10        |    AMBEV S/A    |           ON           |               nan                |         R$          |      1542.0       |    1554.0    |    1515.0    |   1529.0    |       1533.0        |             1532.0             |            1533.0            |                      43784.0                       |       23833600.0       |       36454098800.0       |      0.0      |\n",
      "| 3 |        1         |    20220103    |    2.0     |        MODL11        |       10        |    MODALMAIS    |       UNT     N2       |               nan                |         R$          |      1080.0       |    1147.0    |    1071.0    |   1108.0    |       1093.0        |             1093.0             |            1111.0            |                       3729.0                       |        725000.0        |        803365000.0        |      0.0      |\n",
      "| 4 |        1         |    20220103    |    2.0     |        TASA4         |       10        |  TAURUS ARMAS   |       PN      N2       |               nan                |         R$          |      2500.0       |    2505.0    |    2428.0    |   2466.0    |       2454.0        |             2449.0             |            2454.0            |                       2665.0                       |        610900.0        |       1506876600.0        |      0.0      |\n",
      "+---+------------------+----------------+------------+----------------------+-----------------+-----------------+------------------------+----------------------------------+---------------------+-------------------+--------------+--------------+-------------+---------------------+--------------------------------+------------------------------+----------------------------------------------------+------------------------+---------------------------+---------------+\n",
      "+---+------------------+----------------+------------+----------------------+-----------------+-----------------+------------------------+----------------------------------+---------------------+-------------------+--------------+--------------+-------------+---------------------+--------------------------------+------------------------------+----------------------------------------------------+------------------------+---------------------------+---------------+\n",
      "|   | Tipo de Registro | Data do Pregão | Código BDI | Código de Negociação | Tipo de Mercado | Nome da Empresa | Especificação do Papel | Prazo em Dias do Mercado a Termo | Moeda de Referência | Preço de Abertura | Preço Máximo | Preço Mínimo | Preço Médio | Preço de Fechamento | Preço do Melhor Negócio do Dia | Preço de Fechamento Anterior | Preço de Abertura de Exercício de Opções de Compra | Quantidade de Negócios | Volume Total dos Negócios | ISIN do Ativo |\n",
      "+---+------------------+----------------+------------+----------------------+-----------------+-----------------+------------------------+----------------------------------+---------------------+-------------------+--------------+--------------+-------------+---------------------+--------------------------------+------------------------------+----------------------------------------------------+------------------------+---------------------------+---------------+\n",
      "| 0 |        0         |    COTAHIST    |    0.2     |     023BOVESPA 2     |       23        |      1228       |          nan           |               nan                |         nan         |        nan        |     nan      |     nan      |     nan     |         nan         |              nan               |             nan              |                        nan                         |          nan           |            nan            |      nan      |\n",
      "| 1 |        1         |    20230102    |    2.0     |        NEOE3         |       10        |   NEOENERGIA    |       ON      NM       |               nan                |         R$          |      1540.0       |    1540.0    |    1498.0    |   1508.0    |       1503.0        |             1503.0             |            1506.0            |                       1916.0                       |        325000.0        |        490215100.0        |      0.0      |\n",
      "| 2 |        1         |    20230102    |    2.0     |        NEXP3         |       10        |      NEXPE      |       ON      NM       |               nan                |         R$          |       31.0        |     31.0     |     29.0     |    29.0     |        30.0         |              30.0              |             31.0             |                       255.0                        |        197700.0        |         5898000.0         |      0.0      |\n",
      "| 3 |        1         |    20230102    |    2.0     |        NGRD3         |       10        |     NEOGRID     |       ON      NM       |               nan                |         R$          |       148.0       |    150.0     |    143.0     |    146.0    |        145.0        |             145.0              |            146.0             |                       1011.0                       |        589900.0        |        86150900.0         |      0.0      |\n",
      "| 4 |        1         |    20230102    |    2.0     |        NINJ3         |       10        |    GETNINJAS    |       ON      NM       |               nan                |         R$          |       270.0       |    279.0     |    269.0     |    273.0    |        271.0        |             271.0              |            279.0             |                       421.0                        |        76000.0         |        20792600.0         |      0.0      |\n",
      "+---+------------------+----------------+------------+----------------------+-----------------+-----------------+------------------------+----------------------------------+---------------------+-------------------+--------------+--------------+-------------+---------------------+--------------------------------+------------------------------+----------------------------------------------------+------------------------+---------------------------+---------------+\n"
     ]
    }
   ],
   "execution_count": 14
  },
  {
   "metadata": {},
   "cell_type": "code",
   "outputs": [],
   "execution_count": null,
   "source": "",
   "id": "2d1f5ed5eeccf8e2"
  }
 ],
 "metadata": {
  "kernelspec": {
   "display_name": "Python 3",
   "language": "python",
   "name": "python3"
  },
  "language_info": {
   "codemirror_mode": {
    "name": "ipython",
    "version": 2
   },
   "file_extension": ".py",
   "mimetype": "text/x-python",
   "name": "python",
   "nbconvert_exporter": "python",
   "pygments_lexer": "ipython2",
   "version": "2.7.6"
  }
 },
 "nbformat": 4,
 "nbformat_minor": 5
}
