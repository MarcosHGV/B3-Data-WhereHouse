{
 "cells": [
  {
   "cell_type": "code",
   "id": "initial_id",
   "metadata": {
    "collapsed": true,
    "ExecuteTime": {
     "end_time": "2024-07-24T04:46:52.335640Z",
     "start_time": "2024-07-24T04:46:51.744791Z"
    }
   },
   "source": [
    "#Importando biblioteca\n",
    "import pandas as pd\n",
    "import numpy as np\n",
    "from tabulate import tabulate"
   ],
   "outputs": [],
   "execution_count": 7
  },
  {
   "metadata": {
    "ExecuteTime": {
     "end_time": "2024-07-24T04:02:29.719220Z",
     "start_time": "2024-07-24T04:02:29.714167Z"
    }
   },
   "cell_type": "code",
   "source": [
    "#Carregando as bases\n",
    "ano1 = 'COTAHIST_A2021.TXT'\n",
    "ano2 = 'COTAHIST_A2022.TXT'\n",
    "ano3 = 'COTAHIST_A2023.TXT'"
   ],
   "id": "f0904be421d3682a",
   "outputs": [],
   "execution_count": 3
  },
  {
   "metadata": {
    "ExecuteTime": {
     "end_time": "2024-07-24T04:41:54.630606Z",
     "start_time": "2024-07-24T04:41:54.559896Z"
    }
   },
   "cell_type": "code",
   "source": [
    "# Especificar as larguras das colunas\n",
    "colspecs = [\n",
    "    (0, 2),      # Tipo de registro\n",
    "    (2, 10),     # Data do pregão\n",
    "    (10, 12),    # Código BDI\n",
    "    (12, 24),    # Código de negociação do papel\n",
    "    (24, 27),    # Tipo de mercado\n",
    "    (27, 39),    # Nome da empresa\n",
    "    (39, 49),    # Especificação do papel (ON/PN)\n",
    "    (49, 52),    # Prazo em dias do mercado a termo\n",
    "    (52, 56),    # Moeda de referência\n",
    "    (56, 69),    # Preço de abertura\n",
    "    (69, 82),    # Preço máximo\n",
    "    (82, 95),    # Preço mínimo\n",
    "    (95, 108),   # Preço médio\n",
    "    (108, 121),  # Preço de fechamento\n",
    "    (121, 134),  # Preço do melhor negócio do dia\n",
    "    (134, 147),  # Preço de fechamento anterior\n",
    "    (147, 152),  # Preço de abertura de exercício de opções de compra\n",
    "    (152, 170),  # Quantidade de negócios\n",
    "    (170, 188),  # Volume total dos negócios\n",
    "    (188, 200),  # ISIN do ativo\n",
    "]\n",
    "\n",
    "# Nomes das colunas correspondentes\n",
    "colnames = [\n",
    "    'Tipo de Registro',\n",
    "    'Data do Pregão',\n",
    "    'Código BDI',\n",
    "    'Código de Negociação',\n",
    "    'Tipo de Mercado',\n",
    "    'Nome da Empresa',\n",
    "    'Especificação do Papel',\n",
    "    'Prazo em Dias do Mercado a Termo',\n",
    "    'Moeda de Referência',\n",
    "    'Preço de Abertura',\n",
    "    'Preço Máximo',\n",
    "    'Preço Mínimo',\n",
    "    'Preço Médio',\n",
    "    'Preço de Fechamento',\n",
    "    'Preço do Melhor Negócio do Dia',\n",
    "    'Preço de Fechamento Anterior',\n",
    "    'Preço de Abertura de Exercício de Opções de Compra',\n",
    "    'Quantidade de Negócios',\n",
    "    'Volume Total dos Negócios',\n",
    "    'ISIN do Ativo'\n",
    "]"
   ],
   "id": "b25001e2a3c61004",
   "outputs": [],
   "execution_count": 5
  },
  {
   "metadata": {
    "ExecuteTime": {
     "end_time": "2024-07-24T04:46:51.646575Z",
     "start_time": "2024-07-24T04:42:06.797668Z"
    }
   },
   "cell_type": "code",
   "source": [
    "# Carregar os arquivos .txt em DataFrames\n",
    "df_1 = pd.read_fwf(ano1, colspecs=colspecs, names=colnames)\n",
    "df_2 = pd.read_fwf(ano2, colspecs=colspecs, names=colnames)\n",
    "df_3 = pd.read_fwf(ano3, colspecs=colspecs, names=colnames)"
   ],
   "id": "1530cc490cc1cab2",
   "outputs": [],
   "execution_count": 6
  },
  {
   "metadata": {
    "ExecuteTime": {
     "end_time": "2024-07-24T04:47:22.960955Z",
     "start_time": "2024-07-24T04:47:01.434426Z"
    }
   },
   "cell_type": "code",
   "source": [
    "# Remover a primeira linha\n",
    "df_1 = df_1.drop(index=0).reset_index(drop=True)\n",
    "df_2 = df_2.drop(index=0).reset_index(drop=True)\n",
    "df_3 = df_3.drop(index=0).reset_index(drop=True)    "
   ],
   "id": "b9e94652da1d7e71",
   "outputs": [],
   "execution_count": 8
  },
  {
   "metadata": {
    "ExecuteTime": {
     "end_time": "2024-07-24T04:48:21.521754Z",
     "start_time": "2024-07-24T04:48:21.511310Z"
    }
   },
   "cell_type": "code",
   "source": [
    "# Selecionar as colunas específicas\n",
    "colunas_selecionadas = [\n",
    "    'Data do Pregão',\n",
    "    'Código de Negociação',\n",
    "    'Nome da Empresa',\n",
    "    'Moeda de Referência',\n",
    "    'Preço de Abertura',\n",
    "    'Preço Máximo',\n",
    "    'Preço Mínimo',\n",
    "    'Preço Médio',\n",
    "    'Preço de Fechamento',\n",
    "    'Preço de Fechamento Anterior',\n",
    "    'Quantidade de Negócios',\n",
    "    'Volume Total dos Negócios'\n",
    "]"
   ],
   "id": "f59d8bfbe77a3ecc",
   "outputs": [],
   "execution_count": 9
  },
  {
   "metadata": {
    "ExecuteTime": {
     "end_time": "2024-07-24T04:48:29.548976Z",
     "start_time": "2024-07-24T04:48:24.736290Z"
    }
   },
   "cell_type": "code",
   "source": [
    "df_1 = df_1[colunas_selecionadas]\n",
    "df_2 = df_2[colunas_selecionadas]\n",
    "df_3 = df_3[colunas_selecionadas]\n"
   ],
   "id": "23cc853aec88211c",
   "outputs": [],
   "execution_count": 10
  },
  {
   "metadata": {
    "ExecuteTime": {
     "end_time": "2024-07-24T04:48:34.252016Z",
     "start_time": "2024-07-24T04:48:32.242679Z"
    }
   },
   "cell_type": "code",
   "source": [
    "# Concatenar os DataFrames\n",
    "df_concatenado = pd.concat([df_1, df_2, df_3], ignore_index=True)\n"
   ],
   "id": "16d6401bd1661c1",
   "outputs": [],
   "execution_count": 11
  },
  {
   "metadata": {
    "ExecuteTime": {
     "end_time": "2024-07-24T04:48:37.062307Z",
     "start_time": "2024-07-24T04:48:36.992153Z"
    }
   },
   "cell_type": "code",
   "source": [
    "# Exibir as primeiras linhas do DataFrame concatenado\n",
    "print(tabulate(df_concatenado.head(), headers='keys', tablefmt='pretty'))\n"
   ],
   "id": "d8213895873706ad",
   "outputs": [
    {
     "name": "stdout",
     "output_type": "stream",
     "text": [
      "+---+----------------+----------------------+-----------------+---------------------+-------------------+--------------+--------------+-------------+---------------------+------------------------------+------------------------+---------------------------+\n",
      "|   | Data do Pregão | Código de Negociação | Nome da Empresa | Moeda de Referência | Preço de Abertura | Preço Máximo | Preço Mínimo | Preço Médio | Preço de Fechamento | Preço de Fechamento Anterior | Quantidade de Negócios | Volume Total dos Negócios |\n",
      "+---+----------------+----------------------+-----------------+---------------------+-------------------+--------------+--------------+-------------+---------------------+------------------------------+------------------------+---------------------------+\n",
      "| 0 |    20210104    |        A1AP34        |  ADVANCE AUTO   |         R$          |      5110.0       |    5203.0    |    5062.0    |   5191.0    |       5190.0        |            6132.0            |         6420.0         |        33355870.0         |\n",
      "| 1 |    20210104    |        A1BB34        |     ABB LTD     |         R$          |      3680.0       |    3732.0    |    3674.0    |   3701.0    |       3718.0        |             0.0              |          50.0          |         214670.0          |\n",
      "| 2 |    20210104    |        A1BM34        |   ABIOMED INC   |         R$          |      40942.0      |   41660.0    |   40942.0    |   41527.0   |       41530.0       |             0.0              |         320.0          |        13537960.0         |\n",
      "| 3 |    20210104    |        A1CR34        |    AMCOR PLC    |         R$          |      5850.0       |    6010.0    |    5850.0    |   5976.0    |       5977.0        |             0.0              |         1100.0         |         6592550.0         |\n",
      "| 4 |    20210104    |        A1EE34        |   AMEREN CORP   |         R$          |      19960.0      |   19960.0    |   19960.0    |   19960.0   |       19960.0       |           21250.0            |         400.0          |         7984000.0         |\n",
      "+---+----------------+----------------------+-----------------+---------------------+-------------------+--------------+--------------+-------------+---------------------+------------------------------+------------------------+---------------------------+\n"
     ]
    }
   ],
   "execution_count": 12
  },
  {
   "metadata": {
    "ExecuteTime": {
     "end_time": "2024-07-24T04:48:52.651614Z",
     "start_time": "2024-07-24T04:48:52.642491Z"
    }
   },
   "cell_type": "code",
   "source": [
    "# Exibir o número de linhas e colunas do DataFrame concatenado\n",
    "print(f\"Quantidade de linhas: {df_concatenado.shape[0]}\")\n",
    "print(f\"Quantidade de colunas: {df_concatenado.shape[1]}\")"
   ],
   "id": "8ef353700ae621a3",
   "outputs": [
    {
     "name": "stdout",
     "output_type": "stream",
     "text": [
      "Quantidade de linhas: 6206729\n",
      "Quantidade de colunas: 12\n"
     ]
    }
   ],
   "execution_count": 13
  },
  {
   "metadata": {
    "ExecuteTime": {
     "end_time": "2024-07-24T04:54:49.317156Z",
     "start_time": "2024-07-24T04:53:50.685169Z"
    }
   },
   "cell_type": "code",
   "source": [
    "# Salvar o DataFrame concatenado em um arquivo CSV\n",
    "df_concatenado.to_csv('dados_concatenados.csv', index=False)"
   ],
   "id": "f532f2b6ddf2e285",
   "outputs": [],
   "execution_count": 14
  }
 ],
 "metadata": {
  "kernelspec": {
   "display_name": "Python 3",
   "language": "python",
   "name": "python3"
  },
  "language_info": {
   "codemirror_mode": {
    "name": "ipython",
    "version": 2
   },
   "file_extension": ".py",
   "mimetype": "text/x-python",
   "name": "python",
   "nbconvert_exporter": "python",
   "pygments_lexer": "ipython2",
   "version": "2.7.6"
  }
 },
 "nbformat": 4,
 "nbformat_minor": 5
}
